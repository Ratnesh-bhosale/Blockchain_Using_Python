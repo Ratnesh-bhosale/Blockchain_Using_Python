{
  "nbformat": 4,
  "nbformat_minor": 0,
  "metadata": {
    "colab": {
      "name": "Blockchain_Python.ipynb",
      "provenance": [],
      "authorship_tag": "ABX9TyPye8UN5OldsBfBRV8sweS2",
      "include_colab_link": true
    },
    "kernelspec": {
      "name": "python3",
      "display_name": "Python 3"
    },
    "language_info": {
      "name": "python"
    }
  },
  "cells": [
    {
      "cell_type": "markdown",
      "metadata": {
        "id": "view-in-github",
        "colab_type": "text"
      },
      "source": [
        "<a href=\"https://colab.research.google.com/github/Ratnesh-bhosale/Blockchain_Using_Python/blob/main/Blockchain_Python.ipynb\" target=\"_parent\"><img src=\"https://colab.research.google.com/assets/colab-badge.svg\" alt=\"Open In Colab\"/></a>"
      ]
    },
    {
      "cell_type": "markdown",
      "metadata": {
        "id": "TwcMP3GwT9fT"
      },
      "source": [
        "**Blockchain** is a sequence of immutable, consecutive entries known as **Blocks**. They can hold transactions, files, or any other type of data. The crucial part is that hashes are used to link them together."
      ]
    },
    {
      "cell_type": "markdown",
      "metadata": {
        "id": "NCxYxwkSUOeh"
      },
      "source": [
        "## **Basic Blueprint**"
      ]
    },
    {
      "cell_type": "markdown",
      "metadata": {
        "id": "CNY1MuVKUZ8p"
      },
      "source": [
        "\n",
        "\n",
        "```\n",
        "class Block:\n",
        "\n",
        "    def __init__():\n",
        "\n",
        "    #first block class\n",
        "\n",
        "        pass\n",
        "    \n",
        "    def calculate_hash():\n",
        "    \n",
        "    #calculates the cryptographic hash of every block\n",
        "        \n",
        "    \n",
        "class BlockChain:\n",
        "    \n",
        "    def __init__(self):\n",
        "     # constructor method\n",
        "    pass\n",
        "    \n",
        "    def construct_genesis(self):\n",
        "        # constructs the initial block\n",
        "        pass\n",
        "\n",
        "    def construct_block(self, proof_no, prev_hash):\n",
        "        # constructs a new block and adds it to the chain\n",
        "        pass\n",
        "\n",
        "    @staticmethod\n",
        "    def check_validity():\n",
        "        # checks whether the blockchain is valid\n",
        "        pass\n",
        "\n",
        "    def new_data(self, sender, recipient, quantity):\n",
        "        # adds a new transaction to the data of the transactions\n",
        "        pass\n",
        "\n",
        "    @staticmethod\n",
        "    def construct_proof_of_work(prev_proof):\n",
        "        # protects the blockchain from attack\n",
        "        pass\n",
        "   \n",
        "    @property\n",
        "    def last_block(self):\n",
        "        # returns the last block in the chain\n",
        "        return self.chain[-1]\n",
        "\n",
        "```\n",
        "\n"
      ]
    },
    {
      "cell_type": "markdown",
      "metadata": {
        "id": "YUBq-0YMUXGJ"
      },
      "source": [
        "## **Develope Blockchain**"
      ]
    },
    {
      "cell_type": "code",
      "metadata": {
        "id": "rld4L4imTjis"
      },
      "source": [
        "import hashlib\n",
        "import time"
      ],
      "execution_count": null,
      "outputs": []
    },
    {
      "cell_type": "markdown",
      "metadata": {
        "id": "BSQV39CjVGK8"
      },
      "source": [
        "A blockchain comprises of several blocks that are joined to each other.\n",
        "The chaining of blocks takes place such that if one block is tampered with, the rest of the chain becomes invalid.\n",
        "\n",
        "**Initial block class:**"
      ]
    },
    {
      "cell_type": "code",
      "metadata": {
        "id": "BQdMo3Y4UlLy"
      },
      "source": [
        "class Block:\n",
        "\n",
        "    def __init__(self, index, proof_no, prev_hash, data, timestamp=None):\n",
        "\n",
        "        \"\"\"\n",
        "        :Parameter: Self - Instance of the Block class, making it possible to access the methods and attributes associated with the class\n",
        "        :Parameter: index - position of the block within the blockchain\n",
        "        :Parameter: proof_no - number produced during the creation of a new block (called mining)\n",
        "        :parameter: prev_hash - hash of the previous block within the chain\n",
        "        :parameter: data - record of all transactions completed, such as the quantity bought\n",
        "        :parameter: timestamp - timestamp for the transactions\n",
        "\n",
        "        \"\"\"\n",
        "        self.index = index\n",
        "        self.proof_no = proof_no\n",
        "        self.prev_hash = prev_hash\n",
        "        self.data = data\n",
        "        self.timestamp = timestamp or time.time()\n",
        "\n",
        "    @property\n",
        "    def calculate_hash(self):\n",
        "        \"\"\"\n",
        "        Will generate hash of the blocks using the above values\n",
        "        SHA256 hashing cryptographic algorithm will be used\n",
        "        \n",
        "        \"\"\"\n",
        "        block_of_string = \"{}{}{}{}{}\".format(self.index, self.proof_no,\n",
        "                                              self.prev_hash, self.data,\n",
        "                                              self.timestamp)\n",
        "\n",
        "        return hashlib.sha256(block_of_string.encode()).hexdigest()\n",
        "\n",
        "    def __repr__(self):\n",
        "        return \"{} - {} - {} - {} - {}\".format(self.index, self.proof_no,\n",
        "                                               self.prev_hash, self.data,\n",
        "                                               self.timestamp)"
      ],
      "execution_count": null,
      "outputs": []
    },
    {
      "cell_type": "markdown",
      "metadata": {
        "id": "HFp5CJ1uW4GE"
      },
      "source": [
        "If someone tries to compromise any block in the chain, the other blocks will have invalid hashes, leading to disruption of the entire blockchain network.\n",
        "\n",
        "Block will look like:\n",
        "\n",
        "\n",
        "```\n",
        "{\n",
        "    \"index\": 2,\n",
        "    \"proof\": 21,\n",
        "    \"prev_hash\": \"6e27587e8a27d6fe376d4fd9b4edc96c8890346579e5cbf558252b24a8257823\",\n",
        "    \"transactions\": [\n",
        "        {'sender': '0', 'recipient': 'Ratnesh Bhosale', 'quantity': 1}\n",
        "    ],\n",
        "    \"timestamp\": 1521646442.4096143\n",
        "}\n",
        "```\n",
        "\n"
      ]
    },
    {
      "cell_type": "markdown",
      "metadata": {
        "id": "IeaKT23-XTeI"
      },
      "source": [
        "**Blockchain Class:**"
      ]
    },
    {
      "cell_type": "code",
      "metadata": {
        "id": "aU_-RTFPVB7b"
      },
      "source": [
        "class BlockChain:\n",
        "\n",
        "    def __init__(self):\n",
        "        # Constructor Method\n",
        "\n",
        "        self.chain = []   # keeps all blocks\n",
        "        self.current_data = []  # keeps all the completed transactions in the block\n",
        "        self.nodes = set()\n",
        "        self.construct_genesis()  # take care of constructing the initial block\n",
        "\n",
        "    def construct_genesis(self):\n",
        "        # build the initial block (genesis block) in the chain. \n",
        "        # In the blockchain convention, this block is special because it symbolizes the start of the blockchain\n",
        "        self.construct_block(proof_no=0, prev_hash=0)\n",
        "\n",
        "\n",
        "    def construct_block(self, proof_no, prev_hash):\n",
        "        # creates new blocks in the blockchain\n",
        "        \"\"\"\n",
        "        :Parameter: proof_no - Caller method will pass them\n",
        "        :Parameter: prev_hash - Caller method will pass them\n",
        "        :Return: block - constructed block object is returned\n",
        "\n",
        "        \"\"\"\n",
        "        block = Block(\n",
        "            index=len(self.chain),  #represents the length of the blockchain\n",
        "            proof_no=proof_no,      # Caller method will pass them\n",
        "            prev_hash=prev_hash,    # Caller method will pass them\n",
        "            data=self.current_data) # Record of all the transactions that are not included in any block on the node\n",
        "         \n",
        "        \"\"\"\n",
        "        self.current_data\n",
        "        used to reset the transaction list on the node. \n",
        "        If a block has been constructed and the transactions allocated to it, \n",
        "        the list is reset to ensure that future transactions are added into this list. \n",
        "        And, this process will take place continuously\n",
        "        \"\"\"\n",
        "        self.current_data = [] \n",
        "\n",
        "        self.chain.append(block) # joins newly constructed blocks to the chain\n",
        "        return block\n",
        "\n",
        "\n",
        "    @staticmethod\n",
        "    def check_validity(block, prev_block):  \n",
        "        # assesses the integrity of the blockchain and ensures anomalies are absent\n",
        "\n",
        "        # check whether the hash of every block is correct\n",
        "        if prev_block.index + 1 != block.index:\n",
        "          return False\n",
        "\n",
        "        elif prev_block.calculate_hash != block.prev_hash:\n",
        "          return False\n",
        "\n",
        "        elif not BlockChain.verifying_proof(block.proof_no, prev_block.proof_no):\n",
        "          return False\n",
        "\n",
        "        elif block.timestamp <= prev_block.timestamp:\n",
        "          return False\n",
        "\n",
        "        return True\n",
        "\n",
        "    def new_data(self, sender, recipient, quantity):\n",
        "        # Adding the data of transactions to a block\n",
        "        \"\"\"\n",
        "        :Parameter: sender\n",
        "        :Parameter: recipient\n",
        "        :Parameter: quantity\n",
        "\n",
        "        \"\"\"\n",
        "\n",
        "        self.current_data.append({\n",
        "            'sender': sender,\n",
        "            'recipient': recipient,\n",
        "            'quantity': quantity\n",
        "        })\n",
        "        return True\n",
        "\n",
        "\n",
        "    @staticmethod\n",
        "    def proof_of_work(last_proof):\n",
        "        '''this simple algorithm identifies a number f' such that hash(ff') contain 4 leading zeroes\n",
        "         f is the previous f'\n",
        "         f' is the new proof\n",
        "        '''\n",
        "        proof_no = 0\n",
        "        while BlockChain.verifying_proof(proof_no, last_proof) is False:\n",
        "            proof_no += 1\n",
        "\n",
        "        return proof_no\n",
        "\n",
        "\n",
        "    @staticmethod\n",
        "    def verifying_proof(last_proof, proof):\n",
        "        #verifying the proof: does hash(last_proof, proof) contain 4 leading zeroes?\n",
        "\n",
        "        guess = f'{last_proof}{proof}'.encode()\n",
        "        guess_hash = hashlib.sha256(guess).hexdigest()\n",
        "        return guess_hash[:4] == \"0000\"\n",
        "\n",
        "    @property\n",
        "    def latest_block(self):\n",
        "        return self.chain[-1]\n",
        "\n",
        "    def block_mining(self, details_miner):\n",
        "\n",
        "        self.new_data(\n",
        "            sender=\"0\",  #it implies that this node has created a new block\n",
        "            receiver=details_miner,\n",
        "            quantity=\n",
        "            1,  #creating a new block (or identifying the proof number) is awarded with 1\n",
        "        )\n",
        "\n",
        "        last_block = self.latest_block\n",
        "\n",
        "        last_proof_no = last_block.proof_no\n",
        "        proof_no = self.proof_of_work(last_proof_no)\n",
        "\n",
        "        last_hash = last_block.calculate_hash\n",
        "        block = self.construct_block(proof_no, last_hash)\n",
        "\n",
        "        return vars(block)\n",
        "\n",
        "    def create_node(self, address):\n",
        "        self.nodes.add(address)\n",
        "        return True\n",
        "\n",
        "    @property\n",
        "    def latest_block(self):\n",
        "        return self.chain[-1]\n",
        "\n",
        "\n",
        "    @staticmethod\n",
        "    def obtain_block_object(block_data):\n",
        "        #obtains block object from the block data\n",
        "\n",
        "        return Block(\n",
        "            block_data['index'],\n",
        "            block_data['proof_no'],\n",
        "            block_data['prev_hash'],\n",
        "            block_data['data'],\n",
        "            timestamp=block_data['timestamp'])\n"
      ],
      "execution_count": null,
      "outputs": []
    },
    {
      "cell_type": "markdown",
      "metadata": {
        "id": "JWfV24V-o5Iu"
      },
      "source": [
        "**About Proof of Work**:\n",
        "\n",
        "Proof of work is a concept that prevents the blockchain from abuse. Simply, its objective is to identify a number that solves a problem after a certain amount of computing work is done.\n",
        "\n",
        "If the difficulty level of identifying the number is high, it discourages spamming and tampering with the blockchain.\n",
        "\n",
        "In this case, we’ll use a simple algorithm that discourages people from mining blocks or creating blocks easily."
      ]
    },
    {
      "cell_type": "markdown",
      "metadata": {
        "id": "R2gCpPr3p0nh"
      },
      "source": [
        "# **Testing Code**"
      ]
    },
    {
      "cell_type": "code",
      "metadata": {
        "colab": {
          "base_uri": "https://localhost:8080/"
        },
        "id": "79H-GIPtpz47",
        "outputId": "d7a6894a-c0a7-47c0-b9de-1d322f1e905f"
      },
      "source": [
        "blockchain = BlockChain()\n",
        "\n",
        "print(\"***Mining about to start***\")\n",
        "print(blockchain.chain)\n",
        "\n",
        "last_block = blockchain.latest_block\n",
        "last_proof_no = last_block.proof_no\n",
        "proof_no = blockchain.proof_of_work(last_proof_no)\n",
        "\n",
        "blockchain.new_data(\n",
        "    sender=\"Prajwal Yadav\",  #it implies that this node has created a new block\n",
        "    recipient=\"Ratnesh Bhosale\",  #let's send Ratnesh some coins!\n",
        "    quantity=\n",
        "    1,  #creating a new block (or identifying the proof number) is awarded with 1\n",
        ")\n",
        "\n",
        "last_hash = last_block.calculate_hash\n",
        "block = blockchain.construct_block(proof_no, last_hash)\n",
        "\n",
        "print(\"***Mining has been successful***\")\n",
        "print(blockchain.chain)"
      ],
      "execution_count": null,
      "outputs": [
        {
          "output_type": "stream",
          "name": "stdout",
          "text": [
            "***Mining about to start***\n",
            "[0 - 0 - 0 - [] - 1633039653.1566007]\n",
            "***Mining has been successful***\n",
            "[0 - 0 - 0 - [] - 1633039653.1566007, 1 - 88914 - 1ca0398b78c44c34b1fc6f7a4fc885dc6089d9b48e39f263b453a7a4c240df54 - [{'sender': 'Prajwal Yadav', 'recipient': 'Ratnesh Bhosale', 'quantity': 1}] - 1633039653.2813964]\n"
          ]
        }
      ]
    },
    {
      "cell_type": "code",
      "metadata": {
        "colab": {
          "base_uri": "https://localhost:8080/"
        },
        "id": "KwCtI4MNtIs2",
        "outputId": "63a2a598-f517-4951-bd7b-249557154ceb"
      },
      "source": [
        "#blockchain = BlockChain()\n",
        "\n",
        "print(\"***Mining about to start***\")\n",
        "print(blockchain.chain)\n",
        "\n",
        "last_block = blockchain.latest_block\n",
        "last_proof_no = last_block.proof_no\n",
        "proof_no = blockchain.proof_of_work(last_proof_no)\n",
        "\n",
        "blockchain.new_data(\n",
        "    sender=\"Prajwal1\",  #it implies that this node has created a new block\n",
        "    recipient=\"Ratnesh1\",  #let's send Ratnesh some coins!\n",
        "    quantity=\n",
        "    1,  #creating a new block (or identifying the proof number) is awarded with 1\n",
        ")\n",
        "\n",
        "last_hash = last_block.calculate_hash\n",
        "block = blockchain.construct_block(proof_no, last_hash)\n",
        "\n",
        "print(\"***Mining has been successful***\")\n",
        "print(blockchain.chain)"
      ],
      "execution_count": null,
      "outputs": [
        {
          "output_type": "stream",
          "name": "stdout",
          "text": [
            "***Mining about to start***\n",
            "[0 - 0 - 0 - [] - 1633039653.1566007, 1 - 88914 - 1ca0398b78c44c34b1fc6f7a4fc885dc6089d9b48e39f263b453a7a4c240df54 - [{'sender': 'Prajwal Yadav', 'recipient': 'Ratnesh Bhosale', 'quantity': 1}] - 1633039653.2813964]\n",
            "***Mining has been successful***\n",
            "[0 - 0 - 0 - [] - 1633039653.1566007, 1 - 88914 - 1ca0398b78c44c34b1fc6f7a4fc885dc6089d9b48e39f263b453a7a4c240df54 - [{'sender': 'Prajwal Yadav', 'recipient': 'Ratnesh Bhosale', 'quantity': 1}] - 1633039653.2813964, 2 - 49714 - 0f7dada1b9ebbd9c922cc37eb0d88d9103f79cfdf16d0f71a984ebd2b9393f82 - [{'sender': 'Prajwal1', 'recipient': 'Ratnesh1', 'quantity': 1}] - 1633039653.3967803]\n"
          ]
        }
      ]
    },
    {
      "cell_type": "code",
      "metadata": {
        "id": "VREO74zBvnT0"
      },
      "source": [
        ""
      ],
      "execution_count": null,
      "outputs": []
    }
  ]
}