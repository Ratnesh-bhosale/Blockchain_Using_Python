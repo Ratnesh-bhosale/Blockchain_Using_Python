{
  "nbformat": 4,
  "nbformat_minor": 0,
  "metadata": {
    "colab": {
      "name": "Blockchain_py.ipynb",
      "provenance": [],
      "authorship_tag": "ABX9TyN5XorKlDP6krhjgWjit3yI",
      "include_colab_link": true
    },
    "kernelspec": {
      "name": "python3",
      "display_name": "Python 3"
    },
    "language_info": {
      "name": "python"
    }
  },
  "cells": [
    {
      "cell_type": "markdown",
      "metadata": {
        "id": "view-in-github",
        "colab_type": "text"
      },
      "source": [
        "<a href=\"https://colab.research.google.com/github/Ratnesh-bhosale/Blockchain_Using_Python/blob/main/Blockchain_py.ipynb\" target=\"_parent\"><img src=\"https://colab.research.google.com/assets/colab-badge.svg\" alt=\"Open In Colab\"/></a>"
      ]
    },
    {
      "cell_type": "code",
      "execution_count": null,
      "metadata": {
        "id": "c1wTwFquHwnG"
      },
      "outputs": [],
      "source": [
        "import hashlib\n",
        "import json\n",
        "from time import time\n",
        "from urllib.parse import urlparse\n",
        "from uuid import uuid4\n",
        "import requests\n",
        "from flask import Flask, jsonify, request"
      ]
    },
    {
      "cell_type": "code",
      "source": [
        "class Blockchain(object):\n",
        "  def __init__(self):\n",
        "    self.current_transactions = []\n",
        "    self.chain = []\n",
        "    self.nodes = set()\n",
        "\n",
        "    # Create the genesis block\n",
        "    self.new_block(previous_hash=1, proof=100)\n",
        "  \n",
        "  def register_node(self, address):\n",
        "    \"\"\"\n",
        "    Add a new node to the list of nodes\n",
        "\n",
        "    :param address: <str> Address of node. Eg. 'http://192.168.0.5:5000'\n",
        "    :return: None\n",
        "    \"\"\"\n",
        "\n",
        "    parsed_url = urlparse(address)\n",
        "    self.nodes.add(parsed_url.netloc)\n",
        "\n",
        "  def valid_chain(self, chain):\n",
        "    \"\"\"\n",
        "    Determine if a given blockchain is valid\n",
        "\n",
        "    :param chain: <list> A blockchain\n",
        "    :return: <bool> True if valid, False if not\n",
        "    \"\"\"\n",
        "\n",
        "    last_block = chain[0]\n",
        "    current_index = 1\n",
        "\n",
        "    while current_index < len(chain):\n",
        "      block = chain[current_index]\n",
        "      print(f'{last_block}')\n",
        "      print(f'{block}')\n",
        "      print(\"\\n-----------\\n\")\n",
        "      # Check that the hash of the block is correct\n",
        "      if block['previous_hash'] != self.hash(last_block):\n",
        "        return False\n",
        "\n",
        "      # Check that the Proof of Work is correct\n",
        "      if not self.valid_proof(last_block['proof'], block['proof']):\n",
        "        return False\n",
        "\n",
        "      last_block = block\n",
        "      current_index += 1\n",
        "\n",
        "    return True\n",
        "  \n",
        "  def resolve_conflicts(self):\n",
        "    \"\"\"\n",
        "    This is our consensus algorithm, it resolves conflicts\n",
        "    by replacing our chain with the longest one in the network.\n",
        "\n",
        "    :return: <bool> True if our chain was replaced, False if not\n",
        "    \"\"\"\n",
        "\n",
        "    neighbours = self.nodes\n",
        "    new_chain = None\n",
        "\n",
        "    # We're only looking for chains longer than ours\n",
        "    max_length = len(self.chain)\n",
        "\n",
        "    # Grab and verify the chains from all the nodes in our network\n",
        "    for node in neighbours:\n",
        "      response = requests.get(f'http://{node}/chain')\n",
        "\n",
        "      if response.status_code == 200:\n",
        "        length = response.json()['length']\n",
        "        chain = response.json()['chain']\n",
        "\n",
        "        # Check if the length is longer and the chain is valid\n",
        "        if length > max_length and self.valid_chain(chain):\n",
        "          max_length = length\n",
        "          new_chain = chain\n",
        "\n",
        "    # Replace our chain if we discovered a new, valid chain longer than ours\n",
        "    if new_chain:\n",
        "      self.chain = new_chain\n",
        "      return True\n",
        "\n",
        "    return False\n",
        "\n",
        "  def new_block(self, proof, previous_hash=None):\n",
        "    \"\"\"\n",
        "    Create a new Block in the Blockchain\n",
        "\n",
        "    :param proof: <int> The proof given by the Proof of Work algorithm\n",
        "    :param previous_hash: (Optional) <str> Hash of previous Block\n",
        "    :return: <dict> New Block\n",
        "    \"\"\"\n",
        "\n",
        "    block = {\n",
        "      'index': len(self.chain) + 1,\n",
        "      'timestamp': time(),\n",
        "      'transactions': self.current_transactions,\n",
        "      'proof': proof,\n",
        "      'previous_hash': previous_hash or self.hash(self.chain[-1]),\n",
        "    }\n",
        "\n",
        "    # Reset the current list of transactions\n",
        "    self.current_transactions = []\n",
        "\n",
        "    self.chain.append(block)\n",
        "    return block\n",
        "\n",
        "  def new_transaction(self, sender, recipient, amount):\n",
        "    \"\"\"\n",
        "    Creates a new transaction to go into the next mined Block\n",
        "\n",
        "    :param sender: <str> Address of the Sender\n",
        "    :param recipient: <str> Address of the Recipient\n",
        "    :param amount: <int> Amount\n",
        "    :return: <int> The index of the Block that will hold this transaction\n",
        "    \"\"\"\n",
        "    self.current_transactions.append({\n",
        "      'sender': sender,\n",
        "      'recipient': recipient,\n",
        "      'amount': amount,\n",
        "    })\n",
        "\n",
        "    return self.last_block['index'] + 1\n",
        "\n",
        "  @property\n",
        "  def last_block(self):\n",
        "    return self.chain[-1]\n",
        "  \n",
        "  @staticmethod\n",
        "  def hash(block):\n",
        "    \"\"\"\n",
        "    Creates a SHA-256 hash of a Block\n",
        "\n",
        "    :param block: <dict> Block\n",
        "    :return: <str>\n",
        "    \"\"\"\n",
        "\n",
        "    # We must make sure that the Dictionary is Ordered, or we'll have inconsistent hashes\n",
        "    block_string = json.dumps(block, sort_keys=True).encode()\n",
        "    return hashlib.sha256(block_string).hexdigest()\n",
        "\n",
        "  def proof_of_work(self, last_proof):\n",
        "    \"\"\"\n",
        "    Simple Proof of Work Algorithm:\n",
        "      - Find a number p' such that hash(pp') contains leading 4 zeroes, where p is the previous p'\n",
        "      - p is the previous proof, and p' is the new proof\n",
        "\n",
        "    :param last_proof: <int>\n",
        "    :return: <int>\n",
        "    \"\"\"\n",
        "\n",
        "    proof = 0\n",
        "    while self.valid_proof(last_proof, proof) is False:\n",
        "      proof += 1\n",
        "\n",
        "    return proof\n",
        "\n",
        "  @staticmethod\n",
        "  def valid_proof(last_proof, proof):\n",
        "    \"\"\"\n",
        "    Validates the Proof\n",
        "\n",
        "    :param last_proof: <int> Previous Proof\n",
        "    :param proof: <int> Current Proof\n",
        "    :return: <bool> True if correct, False if not.\n",
        "    \"\"\"\n",
        "\n",
        "    guess = f'{last_proof}{proof}'.encode()\n",
        "    guess_hash = hashlib.sha256(guess).hexdigest()\n",
        "    return guess_hash[:4] == \"0000\""
      ],
      "metadata": {
        "id": "6M6yVNBSH85f"
      },
      "execution_count": null,
      "outputs": []
    },
    {
      "cell_type": "code",
      "source": [
        "def create_blockchain_process(in_port):\n",
        "    # Generate a globally unique address for this node\n",
        "    node_identifier = '%s%04d' % (str(uuid4()).replace('-', ''), in_port)\n",
        "    # Instantiate the Node\n",
        "    app = Flask(node_identifier)\n",
        "    # Instantiate the Blockchain\n",
        "    blockchain = Blockchain()\n",
        "    @app.route('/mine', methods=['GET'])\n",
        "    def mine():\n",
        "        # We run the proof of work algorithm to get the next proof...\n",
        "        last_block = blockchain.last_block\n",
        "        last_proof = last_block['proof']\n",
        "        proof = blockchain.proof_of_work(last_proof)\n",
        "\n",
        "        # We must receive a reward for finding the proof.\n",
        "        # The sender is \"0\" to signify that this node has mined a new coin.\n",
        "        blockchain.new_transaction(\n",
        "            sender=\"0\",\n",
        "            recipient=node_identifier,\n",
        "            amount=1,\n",
        "        )\n",
        "\n",
        "        # Forge the new Block by adding it to the chain\n",
        "        block = blockchain.new_block(proof)\n",
        "\n",
        "        response = {\n",
        "            'message': \"New Block Forged\",\n",
        "            'index': block['index'],\n",
        "            'transactions': block['transactions'],\n",
        "            'proof': block['proof'],\n",
        "            'previous_hash': block['previous_hash'],\n",
        "        }\n",
        "        return jsonify(response), 200\n",
        "\n",
        "\n",
        "    @app.route('/transactions/new', methods=['POST'])\n",
        "    def new_transaction():\n",
        "        values = request.get_json()\n",
        "\n",
        "        # Check that the required fields are in the POST'ed data\n",
        "        required = ['sender', 'recipient', 'amount']\n",
        "        if not all(k in values for k in required):\n",
        "            return 'Missing values', 400\n",
        "\n",
        "        # Create a new Transaction\n",
        "        index = blockchain.new_transaction(values['sender'], values['recipient'], values['amount'])\n",
        "\n",
        "        response = {'message': f'Transaction will be added to Block {index}'}\n",
        "        return jsonify(response), 201\n",
        "\n",
        "\n",
        "    @app.route('/chain', methods=['GET'])\n",
        "    def full_chain():\n",
        "        response = {\n",
        "            'chain': blockchain.chain,\n",
        "            'length': len(blockchain.chain),\n",
        "        }\n",
        "        return jsonify(response), 200\n",
        "\n",
        "\n",
        "    @app.route('/nodes/register', methods=['POST'])\n",
        "    def register_nodes():\n",
        "        values = request.get_json()\n",
        "\n",
        "        nodes = values.get('nodes')\n",
        "        if nodes is None:\n",
        "            return \"Error: Please supply a valid list of nodes\", 400\n",
        "\n",
        "        for node in nodes:\n",
        "            blockchain.register_node(node)\n",
        "\n",
        "        response = {\n",
        "            'message': 'New nodes have been added',\n",
        "            'total_nodes': list(blockchain.nodes),\n",
        "        }\n",
        "        return jsonify(response), 201\n",
        "\n",
        "\n",
        "    @app.route('/nodes/resolve', methods=['GET'])\n",
        "    def consensus():\n",
        "        replaced = blockchain.resolve_conflicts()\n",
        "\n",
        "        if replaced:\n",
        "            response = {\n",
        "                'message': 'Our chain was replaced',\n",
        "                'new_chain': blockchain.chain\n",
        "            }\n",
        "        else:\n",
        "            response = {\n",
        "                'message': 'Our chain is authoritative',\n",
        "                'chain': blockchain.chain\n",
        "            }\n",
        "\n",
        "        return jsonify(response), 200\n",
        "    app.run(host='0.0.0.0', port=in_port)\n",
        "    os._exit(0)"
      ],
      "metadata": {
        "id": "Z5TERcyJLDL9"
      },
      "execution_count": null,
      "outputs": []
    },
    {
      "cell_type": "code",
      "source": [
        "import os\n",
        "from time import sleep\n",
        "out_pids = []\n",
        "for i in range(5000, 5003):\n",
        "    cpid = os.fork()\n",
        "    if not cpid:\n",
        "        create_blockchain_process(i)\n",
        "    else:\n",
        "        out_pids += [cpid]\n",
        "sleep(2) # make sure everything is started"
      ],
      "metadata": {
        "colab": {
          "base_uri": "https://localhost:8080/"
        },
        "id": "_xP61sNxLSdf",
        "outputId": "1e785a29-bb3c-4eb5-d8f1-c11498d86f38"
      },
      "execution_count": null,
      "outputs": [
        {
          "output_type": "stream",
          "name": "stdout",
          "text": [
            " * Serving Flask app \"3f0c3386a2684118ad9516a858bc8d6d5000\" (lazy loading)\n",
            " * Environment: production\n",
            " * Serving Flask app \"e38d3bd541244d3c9be583550af542c05002\" (lazy loading)\n",
            "\u001b[31m   WARNING: This is a development server. Do not use it in a production deployment.\u001b[0m\n",
            " * Environment: production\n",
            " * Serving Flask app \"a5afc77a149047c384f899f2b84bfbb05001\" (lazy loading)\n",
            " * Environment: production\n",
            "\u001b[31m   WARNING: This is a development server. Do not use it in a production deployment.\u001b[0m\n",
            "\u001b[2m   Use a production WSGI server instead.\u001b[0m\n",
            " * Debug mode: off\n",
            " * Debug mode: off\n",
            "\u001b[2m   Use a production WSGI server instead.\u001b[0m\n",
            "\u001b[31m   WARNING: This is a development server. Do not use it in a production deployment.\u001b[0m\n"
          ]
        },
        {
          "output_type": "stream",
          "name": "stderr",
          "text": [
            " * Running on http://0.0.0.0:5000/ (Press CTRL+C to quit)\n"
          ]
        },
        {
          "output_type": "stream",
          "name": "stdout",
          "text": [
            "\u001b[2m   Use a production WSGI server instead.\u001b[0m\n"
          ]
        },
        {
          "output_type": "stream",
          "name": "stderr",
          "text": [
            " * Running on http://0.0.0.0:5001/ (Press CTRL+C to quit)\n"
          ]
        },
        {
          "output_type": "stream",
          "name": "stdout",
          "text": [
            " * Debug mode: off\n"
          ]
        },
        {
          "output_type": "stream",
          "name": "stderr",
          "text": [
            " * Running on http://0.0.0.0:5002/ (Press CTRL+C to quit)\n"
          ]
        }
      ]
    },
    {
      "cell_type": "code",
      "source": [
        "!curl -X POST -H \"Content-Type: application/json\" -d '{\"nodes\": [\"http://localhost:5001\", \"http://localhost:5002\"]}' \"http://localhost:5000/nodes/register\"\n",
        "!curl -X POST -H \"Content-Type: application/json\" -d '{\"nodes\": [\"http://localhost:5000\", \"http://localhost:5002\"]}' \"http://localhost:5001/nodes/register\"\n",
        "!curl -X POST -H \"Content-Type: application/json\" -d '{\"nodes\": [\"http://localhost:5000\", \"http://localhost:5001\"]}' \"http://localhost:5002/nodes/register\""
      ],
      "metadata": {
        "colab": {
          "base_uri": "https://localhost:8080/"
        },
        "id": "dYkRQfPoLWCU",
        "outputId": "fbba9136-b61d-40b8-cd52-f832285567f9"
      },
      "execution_count": null,
      "outputs": [
        {
          "output_type": "stream",
          "name": "stdout",
          "text": [
            "{\"message\":\"New nodes have been added\",\"total_nodes\":[\"localhost:5001\",\"localhost:5002\"]}\n",
            "{\"message\":\"New nodes have been added\",\"total_nodes\":[\"localhost:5000\",\"localhost:5002\"]}\n",
            "{\"message\":\"New nodes have been added\",\"total_nodes\":[\"localhost:5000\",\"localhost:5001\"]}\n"
          ]
        }
      ]
    },
    {
      "cell_type": "code",
      "source": [
        "!curl -X POST -H \"Content-Type: application/json\" -d '{ \"sender\": \"d4ee26eee15148ee92c6cd394edd974e\",\"recipient\": \"someone-other-address\", \"amount\": 5}' \"http://localhost:5000/transactions/new\""
      ],
      "metadata": {
        "colab": {
          "base_uri": "https://localhost:8080/"
        },
        "id": "qkuC-TWvLZC0",
        "outputId": "1e6f77a9-57b0-4ee1-8c2f-31a7949a609a"
      },
      "execution_count": null,
      "outputs": [
        {
          "output_type": "stream",
          "name": "stdout",
          "text": [
            "{\"message\":\"Transaction will be added to Block 2\"}\n"
          ]
        }
      ]
    },
    {
      "cell_type": "code",
      "source": [
        "!curl http://localhost:5000/chain"
      ],
      "metadata": {
        "colab": {
          "base_uri": "https://localhost:8080/"
        },
        "id": "impC5nfQLfKA",
        "outputId": "3e3f4c23-7c7a-4fad-80f3-a80d33afb8b4"
      },
      "execution_count": null,
      "outputs": [
        {
          "output_type": "stream",
          "name": "stdout",
          "text": [
            "{\"chain\":[{\"index\":1,\"previous_hash\":1,\"proof\":100,\"timestamp\":1640294608.456102,\"transactions\":[]}],\"length\":1}\n"
          ]
        }
      ]
    },
    {
      "cell_type": "code",
      "source": [
        "!curl http://localhost:5000/nodes/resolve\n",
        "!curl http://localhost:5001/nodes/resolve\n",
        "!curl http://localhost:5002/nodes/resolve"
      ],
      "metadata": {
        "colab": {
          "base_uri": "https://localhost:8080/"
        },
        "id": "T-9LYCM-Li0-",
        "outputId": "9efbc25c-1d78-426a-dc8c-a816cef70206"
      },
      "execution_count": null,
      "outputs": [
        {
          "output_type": "stream",
          "name": "stdout",
          "text": [
            "{\"chain\":[{\"index\":1,\"previous_hash\":1,\"proof\":100,\"timestamp\":1640294608.456102,\"transactions\":[]}],\"message\":\"Our chain is authoritative\"}\n",
            "{\"chain\":[{\"index\":1,\"previous_hash\":1,\"proof\":100,\"timestamp\":1640294608.4698675,\"transactions\":[]}],\"message\":\"Our chain is authoritative\"}\n",
            "{\"chain\":[{\"index\":1,\"previous_hash\":1,\"proof\":100,\"timestamp\":1640294608.4728572,\"transactions\":[]}],\"message\":\"Our chain is authoritative\"}\n"
          ]
        }
      ]
    },
    {
      "cell_type": "code",
      "source": [
        "!curl http://localhost:5000/mine"
      ],
      "metadata": {
        "colab": {
          "base_uri": "https://localhost:8080/"
        },
        "id": "jDG99MT4LmoI",
        "outputId": "8dfdec21-c6f0-4dd3-8171-8b756badc2f3"
      },
      "execution_count": null,
      "outputs": [
        {
          "output_type": "stream",
          "name": "stdout",
          "text": [
            "{\"index\":2,\"message\":\"New Block Forged\",\"previous_hash\":\"a3cdfeb5efdf64ac0844e10ff0ddf7fff53bb1283bf2bacaa187cb75a8805869\",\"proof\":35293,\"transactions\":[{\"amount\":5,\"recipient\":\"someone-other-address\",\"sender\":\"d4ee26eee15148ee92c6cd394edd974e\"},{\"amount\":1,\"recipient\":\"3f0c3386a2684118ad9516a858bc8d6d5000\",\"sender\":\"0\"}]}\n"
          ]
        }
      ]
    },
    {
      "cell_type": "code",
      "source": [
        "!curl http://localhost:5000/chain"
      ],
      "metadata": {
        "colab": {
          "base_uri": "https://localhost:8080/"
        },
        "id": "J_HhSlKnLqI0",
        "outputId": "8bfaa0b7-305a-4bb8-d5c6-7f2883e92349"
      },
      "execution_count": null,
      "outputs": [
        {
          "output_type": "stream",
          "name": "stdout",
          "text": [
            "{\"chain\":[{\"index\":1,\"previous_hash\":1,\"proof\":100,\"timestamp\":1640294608.456102,\"transactions\":[]},{\"index\":2,\"previous_hash\":\"a3cdfeb5efdf64ac0844e10ff0ddf7fff53bb1283bf2bacaa187cb75a8805869\",\"proof\":35293,\"timestamp\":1640294690.6846914,\"transactions\":[{\"amount\":5,\"recipient\":\"someone-other-address\",\"sender\":\"d4ee26eee15148ee92c6cd394edd974e\"},{\"amount\":1,\"recipient\":\"3f0c3386a2684118ad9516a858bc8d6d5000\",\"sender\":\"0\"}]}],\"length\":2}\n"
          ]
        }
      ]
    },
    {
      "cell_type": "code",
      "source": [
        "!curl http://localhost:5001/mine\n",
        "!curl http://localhost:5000/nodes/resolve\n",
        "!curl http://localhost:5001/nodes/resolve\n",
        "!curl http://localhost:5002/nodes/resolve"
      ],
      "metadata": {
        "colab": {
          "base_uri": "https://localhost:8080/"
        },
        "id": "8HOnZ0SNLvEE",
        "outputId": "76eb881a-a833-486e-c236-f98a749dee8c"
      },
      "execution_count": null,
      "outputs": [
        {
          "output_type": "stream",
          "name": "stdout",
          "text": [
            "{\"index\":2,\"message\":\"New Block Forged\",\"previous_hash\":\"29a0086c3fc5334e1e58dc8b801ac9f01ccd998e900cb01a0faf05be2bf8dae0\",\"proof\":35293,\"transactions\":[{\"amount\":1,\"recipient\":\"a5afc77a149047c384f899f2b84bfbb05001\",\"sender\":\"0\"}]}\n",
            "{\"chain\":[{\"index\":1,\"previous_hash\":1,\"proof\":100,\"timestamp\":1640294608.456102,\"transactions\":[]},{\"index\":2,\"previous_hash\":\"a3cdfeb5efdf64ac0844e10ff0ddf7fff53bb1283bf2bacaa187cb75a8805869\",\"proof\":35293,\"timestamp\":1640294690.6846914,\"transactions\":[{\"amount\":5,\"recipient\":\"someone-other-address\",\"sender\":\"d4ee26eee15148ee92c6cd394edd974e\"},{\"amount\":1,\"recipient\":\"3f0c3386a2684118ad9516a858bc8d6d5000\",\"sender\":\"0\"}]}],\"message\":\"Our chain is authoritative\"}\n",
            "{\"chain\":[{\"index\":1,\"previous_hash\":1,\"proof\":100,\"timestamp\":1640294608.4698675,\"transactions\":[]},{\"index\":2,\"previous_hash\":\"29a0086c3fc5334e1e58dc8b801ac9f01ccd998e900cb01a0faf05be2bf8dae0\",\"proof\":35293,\"timestamp\":1640294726.3293417,\"transactions\":[{\"amount\":1,\"recipient\":\"a5afc77a149047c384f899f2b84bfbb05001\",\"sender\":\"0\"}]}],\"message\":\"Our chain is authoritative\"}\n",
            "{\"message\":\"Our chain was replaced\",\"new_chain\":[{\"index\":1,\"previous_hash\":1,\"proof\":100,\"timestamp\":1640294608.456102,\"transactions\":[]},{\"index\":2,\"previous_hash\":\"a3cdfeb5efdf64ac0844e10ff0ddf7fff53bb1283bf2bacaa187cb75a8805869\",\"proof\":35293,\"timestamp\":1640294690.6846914,\"transactions\":[{\"amount\":5,\"recipient\":\"someone-other-address\",\"sender\":\"d4ee26eee15148ee92c6cd394edd974e\"},{\"amount\":1,\"recipient\":\"3f0c3386a2684118ad9516a858bc8d6d5000\",\"sender\":\"0\"}]}]}\n"
          ]
        }
      ]
    },
    {
      "cell_type": "code",
      "source": [
        "!curl http://localhost:5001/chain"
      ],
      "metadata": {
        "colab": {
          "base_uri": "https://localhost:8080/"
        },
        "id": "PySLFRp0Ly3y",
        "outputId": "400c99f3-cfd5-4215-e65e-d259bea8d57e"
      },
      "execution_count": null,
      "outputs": [
        {
          "output_type": "stream",
          "name": "stdout",
          "text": [
            "{\"chain\":[{\"index\":1,\"previous_hash\":1,\"proof\":100,\"timestamp\":1640294608.4698675,\"transactions\":[]},{\"index\":2,\"previous_hash\":\"29a0086c3fc5334e1e58dc8b801ac9f01ccd998e900cb01a0faf05be2bf8dae0\",\"proof\":35293,\"timestamp\":1640294726.3293417,\"transactions\":[{\"amount\":1,\"recipient\":\"a5afc77a149047c384f899f2b84bfbb05001\",\"sender\":\"0\"}]}],\"length\":2}\n"
          ]
        }
      ]
    },
    {
      "cell_type": "code",
      "source": [
        "!curl http://localhost:5002/mine\n",
        "!curl http://localhost:5000/nodes/resolve\n",
        "!curl http://localhost:5001/nodes/resolve\n",
        "!curl http://localhost:5002/nodes/resolve"
      ],
      "metadata": {
        "colab": {
          "base_uri": "https://localhost:8080/"
        },
        "id": "BkRkV9zjL1v3",
        "outputId": "f7c7daa2-4d7e-4ea4-fe15-3b5d8f4b6f03"
      },
      "execution_count": null,
      "outputs": [
        {
          "output_type": "stream",
          "name": "stdout",
          "text": [
            "{\"index\":3,\"message\":\"New Block Forged\",\"previous_hash\":\"5d20a12e29cf5dde954e036568393d90dcd278f2fd6f664ab60d200aef1c205b\",\"proof\":35089,\"transactions\":[{\"amount\":1,\"recipient\":\"e38d3bd541244d3c9be583550af542c05002\",\"sender\":\"0\"}]}\n",
            "{\"message\":\"Our chain was replaced\",\"new_chain\":[{\"index\":1,\"previous_hash\":1,\"proof\":100,\"timestamp\":1640294608.456102,\"transactions\":[]},{\"index\":2,\"previous_hash\":\"a3cdfeb5efdf64ac0844e10ff0ddf7fff53bb1283bf2bacaa187cb75a8805869\",\"proof\":35293,\"timestamp\":1640294690.6846914,\"transactions\":[{\"amount\":5,\"recipient\":\"someone-other-address\",\"sender\":\"d4ee26eee15148ee92c6cd394edd974e\"},{\"amount\":1,\"recipient\":\"3f0c3386a2684118ad9516a858bc8d6d5000\",\"sender\":\"0\"}]},{\"index\":3,\"previous_hash\":\"5d20a12e29cf5dde954e036568393d90dcd278f2fd6f664ab60d200aef1c205b\",\"proof\":35089,\"timestamp\":1640294757.534341,\"transactions\":[{\"amount\":1,\"recipient\":\"e38d3bd541244d3c9be583550af542c05002\",\"sender\":\"0\"}]}]}\n",
            "{\"message\":\"Our chain was replaced\",\"new_chain\":[{\"index\":1,\"previous_hash\":1,\"proof\":100,\"timestamp\":1640294608.456102,\"transactions\":[]},{\"index\":2,\"previous_hash\":\"a3cdfeb5efdf64ac0844e10ff0ddf7fff53bb1283bf2bacaa187cb75a8805869\",\"proof\":35293,\"timestamp\":1640294690.6846914,\"transactions\":[{\"amount\":5,\"recipient\":\"someone-other-address\",\"sender\":\"d4ee26eee15148ee92c6cd394edd974e\"},{\"amount\":1,\"recipient\":\"3f0c3386a2684118ad9516a858bc8d6d5000\",\"sender\":\"0\"}]},{\"index\":3,\"previous_hash\":\"5d20a12e29cf5dde954e036568393d90dcd278f2fd6f664ab60d200aef1c205b\",\"proof\":35089,\"timestamp\":1640294757.534341,\"transactions\":[{\"amount\":1,\"recipient\":\"e38d3bd541244d3c9be583550af542c05002\",\"sender\":\"0\"}]}]}\n",
            "{\"chain\":[{\"index\":1,\"previous_hash\":1,\"proof\":100,\"timestamp\":1640294608.456102,\"transactions\":[]},{\"index\":2,\"previous_hash\":\"a3cdfeb5efdf64ac0844e10ff0ddf7fff53bb1283bf2bacaa187cb75a8805869\",\"proof\":35293,\"timestamp\":1640294690.6846914,\"transactions\":[{\"amount\":5,\"recipient\":\"someone-other-address\",\"sender\":\"d4ee26eee15148ee92c6cd394edd974e\"},{\"amount\":1,\"recipient\":\"3f0c3386a2684118ad9516a858bc8d6d5000\",\"sender\":\"0\"}]},{\"index\":3,\"previous_hash\":\"5d20a12e29cf5dde954e036568393d90dcd278f2fd6f664ab60d200aef1c205b\",\"proof\":35089,\"timestamp\":1640294757.534341,\"transactions\":[{\"amount\":1,\"recipient\":\"e38d3bd541244d3c9be583550af542c05002\",\"sender\":\"0\"}]}],\"message\":\"Our chain is authoritative\"}\n"
          ]
        }
      ]
    },
    {
      "cell_type": "code",
      "source": [
        "!curl http://localhost:5002/chain"
      ],
      "metadata": {
        "colab": {
          "base_uri": "https://localhost:8080/"
        },
        "id": "nn92liBYL6aQ",
        "outputId": "16e9d85e-ef9b-4027-cc8d-4d0dd25a8f17"
      },
      "execution_count": null,
      "outputs": [
        {
          "output_type": "stream",
          "name": "stdout",
          "text": [
            "{\"chain\":[{\"index\":1,\"previous_hash\":1,\"proof\":100,\"timestamp\":1640294608.456102,\"transactions\":[]},{\"index\":2,\"previous_hash\":\"a3cdfeb5efdf64ac0844e10ff0ddf7fff53bb1283bf2bacaa187cb75a8805869\",\"proof\":35293,\"timestamp\":1640294690.6846914,\"transactions\":[{\"amount\":5,\"recipient\":\"someone-other-address\",\"sender\":\"d4ee26eee15148ee92c6cd394edd974e\"},{\"amount\":1,\"recipient\":\"3f0c3386a2684118ad9516a858bc8d6d5000\",\"sender\":\"0\"}]},{\"index\":3,\"previous_hash\":\"5d20a12e29cf5dde954e036568393d90dcd278f2fd6f664ab60d200aef1c205b\",\"proof\":35089,\"timestamp\":1640294757.534341,\"transactions\":[{\"amount\":1,\"recipient\":\"e38d3bd541244d3c9be583550af542c05002\",\"sender\":\"0\"}]}],\"length\":3}\n"
          ]
        }
      ]
    },
    {
      "cell_type": "code",
      "source": [
        "import signal\n",
        "for cpid in out_pids:\n",
        "    #os.waitpid(cpid, 0) # to wait for a peaceful exit\n",
        "    os.kill(cpid, signal.SIGTERM)"
      ],
      "metadata": {
        "id": "BjASHa3YL__e"
      },
      "execution_count": null,
      "outputs": []
    },
    {
      "cell_type": "code",
      "source": [
        ""
      ],
      "metadata": {
        "id": "GKvqLbLIMD5t"
      },
      "execution_count": null,
      "outputs": []
    }
  ]
}